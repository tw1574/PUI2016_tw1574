{
 "cells": [
  {
   "cell_type": "code",
   "execution_count": 1,
   "metadata": {
    "collapsed": false
   },
   "outputs": [
    {
     "name": "stdout",
     "output_type": "stream",
     "text": [
      "Populating the interactive namespace from numpy and matplotlib\n"
     ]
    },
    {
     "name": "stderr",
     "output_type": "stream",
     "text": [
      "/opt/rh/anaconda/root/envs/PUI2016_Python3/lib/python3.5/site-packages/IPython/html.py:14: ShimWarning: The `IPython.html` package has been deprecated. You should import from `notebook` instead. `IPython.html.widgets` has moved to `ipywidgets`.\n",
      "  \"`IPython.html.widgets` has moved to `ipywidgets`.\", ShimWarning)\n"
     ]
    }
   ],
   "source": [
    "# standard imports and setups\n",
    "%pylab inline\n",
    "\n",
    "import pylab as pl\n",
    "import pandas as pd\n",
    "import numpy as np\n",
    "import zipfile as zp\n",
    "import os\n",
    "import seaborn as sns"
   ]
  },
  {
   "cell_type": "code",
   "execution_count": 2,
   "metadata": {
    "collapsed": false
   },
   "outputs": [
    {
     "name": "stdout",
     "output_type": "stream",
     "text": [
      "--2016-10-25 23:30:01--  https://s3.amazonaws.com/tripdata/201502-citibike-tripdata.zip\n",
      "Resolving s3.amazonaws.com... 54.231.83.18\n",
      "Connecting to s3.amazonaws.com|54.231.83.18|:443... connected.\n",
      "HTTP request sent, awaiting response... 200 OK\n",
      "Length: 4821145 (4.6M) [application/zip]\n",
      "Saving to: “/home/cusp/tw1574/PUIdata/201502-citibike-tripdata.zip”\n",
      "\n",
      "100%[======================================>] 4,821,145   1016K/s   in 11s     \n",
      "\n",
      "2016-10-25 23:30:13 (434 KB/s) - “/home/cusp/tw1574/PUIdata/201502-citibike-tripdata.zip” saved [4821145/4821145]\n",
      "\n"
     ]
    },
    {
     "data": {
      "text/html": [
       "<div>\n",
       "<table border=\"1\" class=\"dataframe\">\n",
       "  <thead>\n",
       "    <tr style=\"text-align: right;\">\n",
       "      <th></th>\n",
       "      <th>tripduration</th>\n",
       "      <th>starttime</th>\n",
       "      <th>stoptime</th>\n",
       "      <th>start station id</th>\n",
       "      <th>start station name</th>\n",
       "      <th>start station latitude</th>\n",
       "      <th>start station longitude</th>\n",
       "      <th>end station id</th>\n",
       "      <th>end station name</th>\n",
       "      <th>end station latitude</th>\n",
       "      <th>end station longitude</th>\n",
       "      <th>bikeid</th>\n",
       "      <th>usertype</th>\n",
       "      <th>birth year</th>\n",
       "      <th>gender</th>\n",
       "    </tr>\n",
       "  </thead>\n",
       "  <tbody>\n",
       "    <tr>\n",
       "      <th>0</th>\n",
       "      <td>801</td>\n",
       "      <td>2/1/2015 0:00</td>\n",
       "      <td>2/1/2015 0:14</td>\n",
       "      <td>521</td>\n",
       "      <td>8 Ave &amp; W 31 St</td>\n",
       "      <td>40.750450</td>\n",
       "      <td>-73.994811</td>\n",
       "      <td>423</td>\n",
       "      <td>W 54 St &amp; 9 Ave</td>\n",
       "      <td>40.765849</td>\n",
       "      <td>-73.986905</td>\n",
       "      <td>17131</td>\n",
       "      <td>Subscriber</td>\n",
       "      <td>1978.0</td>\n",
       "      <td>2</td>\n",
       "    </tr>\n",
       "    <tr>\n",
       "      <th>1</th>\n",
       "      <td>379</td>\n",
       "      <td>2/1/2015 0:00</td>\n",
       "      <td>2/1/2015 0:07</td>\n",
       "      <td>497</td>\n",
       "      <td>E 17 St &amp; Broadway</td>\n",
       "      <td>40.737050</td>\n",
       "      <td>-73.990093</td>\n",
       "      <td>504</td>\n",
       "      <td>1 Ave &amp; E 15 St</td>\n",
       "      <td>40.732219</td>\n",
       "      <td>-73.981656</td>\n",
       "      <td>21289</td>\n",
       "      <td>Subscriber</td>\n",
       "      <td>1993.0</td>\n",
       "      <td>1</td>\n",
       "    </tr>\n",
       "    <tr>\n",
       "      <th>2</th>\n",
       "      <td>2474</td>\n",
       "      <td>2/1/2015 0:01</td>\n",
       "      <td>2/1/2015 0:42</td>\n",
       "      <td>281</td>\n",
       "      <td>Grand Army Plaza &amp; Central Park S</td>\n",
       "      <td>40.764397</td>\n",
       "      <td>-73.973715</td>\n",
       "      <td>127</td>\n",
       "      <td>Barrow St &amp; Hudson St</td>\n",
       "      <td>40.731724</td>\n",
       "      <td>-74.006744</td>\n",
       "      <td>18903</td>\n",
       "      <td>Subscriber</td>\n",
       "      <td>1969.0</td>\n",
       "      <td>2</td>\n",
       "    </tr>\n",
       "    <tr>\n",
       "      <th>3</th>\n",
       "      <td>818</td>\n",
       "      <td>2/1/2015 0:01</td>\n",
       "      <td>2/1/2015 0:15</td>\n",
       "      <td>2004</td>\n",
       "      <td>6 Ave &amp; Broome St</td>\n",
       "      <td>40.724399</td>\n",
       "      <td>-74.004704</td>\n",
       "      <td>505</td>\n",
       "      <td>6 Ave &amp; W 33 St</td>\n",
       "      <td>40.749013</td>\n",
       "      <td>-73.988484</td>\n",
       "      <td>21044</td>\n",
       "      <td>Subscriber</td>\n",
       "      <td>1985.0</td>\n",
       "      <td>2</td>\n",
       "    </tr>\n",
       "    <tr>\n",
       "      <th>4</th>\n",
       "      <td>544</td>\n",
       "      <td>2/1/2015 0:01</td>\n",
       "      <td>2/1/2015 0:10</td>\n",
       "      <td>323</td>\n",
       "      <td>Lawrence St &amp; Willoughby St</td>\n",
       "      <td>40.692362</td>\n",
       "      <td>-73.986317</td>\n",
       "      <td>83</td>\n",
       "      <td>Atlantic Ave &amp; Fort Greene Pl</td>\n",
       "      <td>40.683826</td>\n",
       "      <td>-73.976323</td>\n",
       "      <td>19868</td>\n",
       "      <td>Subscriber</td>\n",
       "      <td>1957.0</td>\n",
       "      <td>1</td>\n",
       "    </tr>\n",
       "  </tbody>\n",
       "</table>\n",
       "</div>"
      ],
      "text/plain": [
       "   tripduration      starttime       stoptime  start station id  \\\n",
       "0           801  2/1/2015 0:00  2/1/2015 0:14               521   \n",
       "1           379  2/1/2015 0:00  2/1/2015 0:07               497   \n",
       "2          2474  2/1/2015 0:01  2/1/2015 0:42               281   \n",
       "3           818  2/1/2015 0:01  2/1/2015 0:15              2004   \n",
       "4           544  2/1/2015 0:01  2/1/2015 0:10               323   \n",
       "\n",
       "                  start station name  start station latitude  \\\n",
       "0                    8 Ave & W 31 St               40.750450   \n",
       "1                 E 17 St & Broadway               40.737050   \n",
       "2  Grand Army Plaza & Central Park S               40.764397   \n",
       "3                  6 Ave & Broome St               40.724399   \n",
       "4        Lawrence St & Willoughby St               40.692362   \n",
       "\n",
       "   start station longitude  end station id               end station name  \\\n",
       "0               -73.994811             423                W 54 St & 9 Ave   \n",
       "1               -73.990093             504                1 Ave & E 15 St   \n",
       "2               -73.973715             127          Barrow St & Hudson St   \n",
       "3               -74.004704             505                6 Ave & W 33 St   \n",
       "4               -73.986317              83  Atlantic Ave & Fort Greene Pl   \n",
       "\n",
       "   end station latitude  end station longitude  bikeid    usertype  \\\n",
       "0             40.765849             -73.986905   17131  Subscriber   \n",
       "1             40.732219             -73.981656   21289  Subscriber   \n",
       "2             40.731724             -74.006744   18903  Subscriber   \n",
       "3             40.749013             -73.988484   21044  Subscriber   \n",
       "4             40.683826             -73.976323   19868  Subscriber   \n",
       "\n",
       "   birth year  gender  \n",
       "0      1978.0       2  \n",
       "1      1993.0       1  \n",
       "2      1969.0       2  \n",
       "3      1985.0       2  \n",
       "4      1957.0       1  "
      ]
     },
     "execution_count": 2,
     "metadata": {},
     "output_type": "execute_result"
    }
   ],
   "source": [
    "# working from Citibike data\n",
    "path = os.getenv('PUIDATA')+'/'\n",
    "\n",
    "datestring = '201502'\n",
    "#bring in the citybike data from February 2015\n",
    "!wget \"https://s3.amazonaws.com/tripdata/{datestring}-citibike-tripdata.zip\" -O \"{path}{datestring}-citibike-tripdata.zip\"\n",
    "\n",
    "zip = zp.ZipFile(path+datestring+'-citibike-tripdata.zip')\n",
    "zip.extractall(path)\n",
    "\n",
    "!rm \"{path}{datestring}-citibike-tripdata.zip\"\n",
    "\n",
    "data = pd.read_csv(path+datestring+'-citibike-tripdata.csv')\n",
    "\n",
    "data.head()"
   ]
  },
  {
   "cell_type": "code",
   "execution_count": 3,
   "metadata": {
    "collapsed": false
   },
   "outputs": [
    {
     "data": {
      "text/plain": [
       "tripduration               196930\n",
       "starttime                  196930\n",
       "stoptime                   196930\n",
       "start station id           196930\n",
       "start station name         196930\n",
       "start station latitude     196930\n",
       "start station longitude    196930\n",
       "end station id             196930\n",
       "end station name           196930\n",
       "end station latitude       196930\n",
       "end station longitude      196930\n",
       "bikeid                     196930\n",
       "usertype                   196930\n",
       "birth year                 194663\n",
       "gender                     196930\n",
       "dtype: int64"
      ]
     },
     "execution_count": 3,
     "metadata": {},
     "output_type": "execute_result"
    }
   ],
   "source": [
    "# simple overview of the data\n",
    "data.count()"
   ]
  },
  {
   "cell_type": "code",
   "execution_count": 4,
   "metadata": {
    "collapsed": true
   },
   "outputs": [],
   "source": [
    "# convert starttime to datetime and extracting the hour\n",
    "data['starttime'] = pd.to_datetime(data['starttime'])\n",
    "data['starthour'] = data.starttime.apply(lambda x: x.hour)"
   ]
  },
  {
   "cell_type": "code",
   "execution_count": 5,
   "metadata": {
    "collapsed": false
   },
   "outputs": [
    {
     "data": {
      "text/html": [
       "<div>\n",
       "<table border=\"1\" class=\"dataframe\">\n",
       "  <thead>\n",
       "    <tr style=\"text-align: right;\">\n",
       "      <th></th>\n",
       "      <th>tripduration</th>\n",
       "      <th>starttime</th>\n",
       "      <th>stoptime</th>\n",
       "      <th>start station id</th>\n",
       "      <th>start station name</th>\n",
       "      <th>start station latitude</th>\n",
       "      <th>start station longitude</th>\n",
       "      <th>end station id</th>\n",
       "      <th>end station name</th>\n",
       "      <th>end station latitude</th>\n",
       "      <th>end station longitude</th>\n",
       "      <th>bikeid</th>\n",
       "      <th>usertype</th>\n",
       "      <th>birth year</th>\n",
       "      <th>gender</th>\n",
       "      <th>starthour</th>\n",
       "    </tr>\n",
       "  </thead>\n",
       "  <tbody>\n",
       "    <tr>\n",
       "      <th>229</th>\n",
       "      <td>630</td>\n",
       "      <td>2015-02-01 06:02:00</td>\n",
       "      <td>2/1/2015 6:13</td>\n",
       "      <td>523</td>\n",
       "      <td>W 38 St &amp; 8 Ave</td>\n",
       "      <td>40.754666</td>\n",
       "      <td>-73.991382</td>\n",
       "      <td>527</td>\n",
       "      <td>E 33 St &amp; 2 Ave</td>\n",
       "      <td>40.744023</td>\n",
       "      <td>-73.976056</td>\n",
       "      <td>16971</td>\n",
       "      <td>Subscriber</td>\n",
       "      <td>1975.0</td>\n",
       "      <td>2</td>\n",
       "      <td>6</td>\n",
       "    </tr>\n",
       "    <tr>\n",
       "      <th>230</th>\n",
       "      <td>760</td>\n",
       "      <td>2015-02-01 06:07:00</td>\n",
       "      <td>2/1/2015 6:20</td>\n",
       "      <td>379</td>\n",
       "      <td>W 31 St &amp; 7 Ave</td>\n",
       "      <td>40.749156</td>\n",
       "      <td>-73.991600</td>\n",
       "      <td>538</td>\n",
       "      <td>E 48 St &amp; Madison Ave</td>\n",
       "      <td>40.756660</td>\n",
       "      <td>-73.976684</td>\n",
       "      <td>18093</td>\n",
       "      <td>Subscriber</td>\n",
       "      <td>1972.0</td>\n",
       "      <td>1</td>\n",
       "      <td>6</td>\n",
       "    </tr>\n",
       "    <tr>\n",
       "      <th>231</th>\n",
       "      <td>495</td>\n",
       "      <td>2015-02-01 06:08:00</td>\n",
       "      <td>2/1/2015 6:17</td>\n",
       "      <td>258</td>\n",
       "      <td>DeKalb Ave &amp; Vanderbilt Ave</td>\n",
       "      <td>40.689407</td>\n",
       "      <td>-73.968855</td>\n",
       "      <td>243</td>\n",
       "      <td>Fulton St &amp; Rockwell Pl</td>\n",
       "      <td>40.688226</td>\n",
       "      <td>-73.979382</td>\n",
       "      <td>18485</td>\n",
       "      <td>Subscriber</td>\n",
       "      <td>1983.0</td>\n",
       "      <td>2</td>\n",
       "      <td>6</td>\n",
       "    </tr>\n",
       "    <tr>\n",
       "      <th>232</th>\n",
       "      <td>1015</td>\n",
       "      <td>2015-02-01 06:09:00</td>\n",
       "      <td>2/1/2015 6:26</td>\n",
       "      <td>350</td>\n",
       "      <td>Clinton St &amp; Grand St</td>\n",
       "      <td>40.715595</td>\n",
       "      <td>-73.987030</td>\n",
       "      <td>444</td>\n",
       "      <td>Broadway &amp; W 24 St</td>\n",
       "      <td>40.742354</td>\n",
       "      <td>-73.989151</td>\n",
       "      <td>19287</td>\n",
       "      <td>Subscriber</td>\n",
       "      <td>1981.0</td>\n",
       "      <td>1</td>\n",
       "      <td>6</td>\n",
       "    </tr>\n",
       "    <tr>\n",
       "      <th>233</th>\n",
       "      <td>1615</td>\n",
       "      <td>2015-02-01 06:10:00</td>\n",
       "      <td>2/1/2015 6:37</td>\n",
       "      <td>477</td>\n",
       "      <td>W 41 St &amp; 8 Ave</td>\n",
       "      <td>40.756405</td>\n",
       "      <td>-73.990026</td>\n",
       "      <td>473</td>\n",
       "      <td>Rivington St &amp; Chrystie St</td>\n",
       "      <td>40.721101</td>\n",
       "      <td>-73.991925</td>\n",
       "      <td>15676</td>\n",
       "      <td>Customer</td>\n",
       "      <td>NaN</td>\n",
       "      <td>0</td>\n",
       "      <td>6</td>\n",
       "    </tr>\n",
       "  </tbody>\n",
       "</table>\n",
       "</div>"
      ],
      "text/plain": [
       "     tripduration           starttime       stoptime  start station id  \\\n",
       "229           630 2015-02-01 06:02:00  2/1/2015 6:13               523   \n",
       "230           760 2015-02-01 06:07:00  2/1/2015 6:20               379   \n",
       "231           495 2015-02-01 06:08:00  2/1/2015 6:17               258   \n",
       "232          1015 2015-02-01 06:09:00  2/1/2015 6:26               350   \n",
       "233          1615 2015-02-01 06:10:00  2/1/2015 6:37               477   \n",
       "\n",
       "              start station name  start station latitude  \\\n",
       "229              W 38 St & 8 Ave               40.754666   \n",
       "230              W 31 St & 7 Ave               40.749156   \n",
       "231  DeKalb Ave & Vanderbilt Ave               40.689407   \n",
       "232        Clinton St & Grand St               40.715595   \n",
       "233              W 41 St & 8 Ave               40.756405   \n",
       "\n",
       "     start station longitude  end station id            end station name  \\\n",
       "229               -73.991382             527             E 33 St & 2 Ave   \n",
       "230               -73.991600             538       E 48 St & Madison Ave   \n",
       "231               -73.968855             243     Fulton St & Rockwell Pl   \n",
       "232               -73.987030             444          Broadway & W 24 St   \n",
       "233               -73.990026             473  Rivington St & Chrystie St   \n",
       "\n",
       "     end station latitude  end station longitude  bikeid    usertype  \\\n",
       "229             40.744023             -73.976056   16971  Subscriber   \n",
       "230             40.756660             -73.976684   18093  Subscriber   \n",
       "231             40.688226             -73.979382   18485  Subscriber   \n",
       "232             40.742354             -73.989151   19287  Subscriber   \n",
       "233             40.721101             -73.991925   15676    Customer   \n",
       "\n",
       "     birth year  gender  starthour  \n",
       "229      1975.0       2          6  \n",
       "230      1972.0       1          6  \n",
       "231      1983.0       2          6  \n",
       "232      1981.0       1          6  \n",
       "233         NaN       0          6  "
      ]
     },
     "execution_count": 5,
     "metadata": {},
     "output_type": "execute_result"
    }
   ],
   "source": [
    "# create a reduce dataset to morning hours and display \n",
    "data_morning = data[(data.starthour >= 6) & (data.starthour <= 9)]\n",
    "data_morning.head()"
   ]
  },
  {
   "cell_type": "code",
   "execution_count": 6,
   "metadata": {
    "collapsed": false
   },
   "outputs": [
    {
     "data": {
      "text/plain": [
       "tripduration               43866\n",
       "starttime                  43866\n",
       "stoptime                   43866\n",
       "start station id           43866\n",
       "start station name         43866\n",
       "start station latitude     43866\n",
       "start station longitude    43866\n",
       "end station id             43866\n",
       "end station name           43866\n",
       "end station latitude       43866\n",
       "end station longitude      43866\n",
       "bikeid                     43866\n",
       "usertype                   43866\n",
       "birth year                 43645\n",
       "gender                     43866\n",
       "starthour                  43866\n",
       "dtype: int64"
      ]
     },
     "execution_count": 6,
     "metadata": {},
     "output_type": "execute_result"
    }
   ],
   "source": [
    "# stats about the reduced dataframe\n",
    "data_morning.count()"
   ]
  },
  {
   "cell_type": "code",
   "execution_count": 7,
   "metadata": {
    "collapsed": false
   },
   "outputs": [
    {
     "data": {
      "text/plain": [
       "Index(['birth year', 'starthour', 'tripduration'], dtype='object')"
      ]
     },
     "execution_count": 7,
     "metadata": {},
     "output_type": "execute_result"
    }
   ],
   "source": [
    "# reducing the number of columns of the dataframe\n",
    "data_morning = data_morning[['birth year','starthour','tripduration']]\n",
    "data_morning.columns"
   ]
  },
  {
   "cell_type": "code",
   "execution_count": 8,
   "metadata": {
    "collapsed": false
   },
   "outputs": [],
   "source": [
    "# setup the age and age bins against which we would plot \n",
    "data_morning['age'] = 2016-data_morning['birth year']\n",
    "bins = [0, 20, 30, 40, 50, 60, 70]\n",
    "data_morning['age_category'] = pd.cut(data_morning['age'], bins)"
   ]
  },
  {
   "cell_type": "code",
   "execution_count": 25,
   "metadata": {
    "collapsed": false
   },
   "outputs": [],
   "source": [
    "# convert tripduration to int and create trip duration mins column\n",
    "data_morning['tripduration'] = data_morning['tripduration'].astype('int')\n",
    "data_morning['tripduration_mins'] = data_morning['tripduration']/60"
   ]
  },
  {
   "cell_type": "code",
   "execution_count": 32,
   "metadata": {
    "collapsed": false
   },
   "outputs": [
    {
     "data": {
      "image/png": "[encoded data removed]",
      "text/plain": [
       "<matplotlib.figure.Figure at 0x7fec772770f0>"
      ]
     },
     "metadata": {},
     "output_type": "display_data"
    }
   ],
   "source": [
    "# Create the heatmap\n",
    "ax = plt.axes()\n",
    "sns.heatmap(data_morning.pivot_table(columns=\"starthour\", index=\"age_category\", values=\"tripduration_mins\",aggfunc=np.sum))\n",
    "\n",
    "ax.set_title('Morning Rush Hour Commute Times (Mins) by Age and Hour')\n",
    "ax.set_xlabel('Start Hour')\n",
    "ax.set_ylabel('Age Group')\n",
    "plt.show()"
   ]
  },
  {
   "cell_type": "code",
   "execution_count": null,
   "metadata": {
    "collapsed": true
   },
   "outputs": [],
   "source": []
  }
 ],
 "metadata": {
  "kernelspec": {
   "display_name": "PUI2016_Python3",
   "language": "python",
   "name": "pui2016_python3"
  },
  "language_info": {
   "codemirror_mode": {
    "name": "ipython",
    "version": 3
   },
   "file_extension": ".py",
   "mimetype": "text/x-python",
   "name": "python",
   "nbconvert_exporter": "python",
   "pygments_lexer": "ipython3",
   "version": "3.5.2"
  }
 },
 "nbformat": 4,
 "nbformat_minor": 0
}
